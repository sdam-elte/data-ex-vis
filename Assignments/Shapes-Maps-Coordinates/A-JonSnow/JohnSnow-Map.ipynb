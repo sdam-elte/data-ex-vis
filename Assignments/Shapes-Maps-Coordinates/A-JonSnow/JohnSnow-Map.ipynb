{
 "cells": [
  {
   "cell_type": "code",
   "execution_count": 1,
   "metadata": {},
   "outputs": [],
   "source": [
    "import json, os\n",
    "import folium\n",
    "import numpy as np\n",
    "import seaborn as sns\n",
    "import geopandas as gpd\n",
    "from folium import plugins\n",
    "import matplotlib.pyplot as plt\n",
    "from collections import Counter\n",
    "from scipy.stats import gaussian_kde"
   ]
  },
  {
   "cell_type": "markdown",
   "metadata": {},
   "source": [
    "# Introduction into handling geographical data"
   ]
  },
  {
   "cell_type": "markdown",
   "metadata": {},
   "source": [
    "[John Snow](https://en.wikipedia.org/wiki/John_Snow) was an English physician, who was first to trace the source of a cholera outbreak in London's Soho district in 1854 using data visualization. In the following exercises, we are going to reconstruct the map of Snow with modern tools and explore some ideas of geographic data analysis.\n",
    "\n",
    "<img src=\"https://upload.wikimedia.org/wikipedia/commons/2/27/Snow-cholera-map-1.jpg\" width=\"400px\"></img>\n",
    "\n",
    "Though there is a whole [R library](https://vincentarelbundock.github.io/Rdatasets/doc/HistData/Snow.pumps.html) dedicated to this dataset, we would like R users to also build the solutions (e.g. Voronoi cells) from scratch.\n",
    "\n",
    "Further reading:\n",
    "* https://en.wikipedia.org/wiki/1854_Broad_Street_cholera_outbreak\n",
    "* https://www1.udel.edu/johnmack/frec682/cholera/cholera2.html\n",
    "* https://www.theguardian.com/news/datablog/interactive/2013/mar/15/cholera-map-john-snow-recreated"
   ]
  },
  {
   "cell_type": "markdown",
   "metadata": {},
   "source": [
    "The shapefile that will be used in these exercises are located at http://donboyes.com/2011/10/14/john-snow-and-serendipity/, but they are already downloaded into the `/v/courses/dataesp2023.public/Datasets/D-Shapes-Maps-Coordinates/shapes` directory."
   ]
  },
  {
   "cell_type": "code",
   "execution_count": 2,
   "metadata": {},
   "outputs": [],
   "source": [
    "dataset_dir=\"/v/courses/2025-202425adatexplorcisvizualizci.public/Datasets/\""
   ]
  },
  {
   "cell_type": "markdown",
   "metadata": {},
   "source": [
    "## Exercise 1\n",
    "\n",
    "Load the death and the pump dataset into a tabular format! Have a look at the dataset's structure! The pump dataset contains the locations of wells. (Wells were used to obtain water for drinking, cooking etc. )\n",
    "\n",
    "*The format of the files is called [shapefile](https://en.wikipedia.org/wiki/Shapefile), which is a format that is easily readable by the most common GIS (Geographic Information System) softwares. Shapefiles consist of many files, some of which store the geographic information, some the coordinate system description, some the additional attributes of the geographical objects. [geopandas](http://geopandas.org/) is able to read shapefiles natively into its base class GeoDataFrame, which has a similar API to that of `pandas` `DataFrames`. This is convenient, because we can use all of our previous knowledge of `pandas`.*\n",
    "\n",
    "It is sometimes worth to have a look at a shapefile's content quickly. For Linux, [QGIS](https://www.qgis.org/en/site/about/index.html) is a powerful free GIS system, try it at home!"
   ]
  },
  {
   "cell_type": "code",
   "execution_count": 3,
   "metadata": {},
   "outputs": [],
   "source": [
    "deaths = gpd.read_file(dataset_dir+\"Shapes-Maps-Coordinates/shapes/deaths_gcs.shp\")"
   ]
  },
  {
   "cell_type": "code",
   "execution_count": 4,
   "metadata": {},
   "outputs": [
    {
     "data": {
      "text/html": [
       "<div>\n",
       "<style scoped>\n",
       "    .dataframe tbody tr th:only-of-type {\n",
       "        vertical-align: middle;\n",
       "    }\n",
       "\n",
       "    .dataframe tbody tr th {\n",
       "        vertical-align: top;\n",
       "    }\n",
       "\n",
       "    .dataframe thead th {\n",
       "        text-align: right;\n",
       "    }\n",
       "</style>\n",
       "<table border=\"1\" class=\"dataframe\">\n",
       "  <thead>\n",
       "    <tr style=\"text-align: right;\">\n",
       "      <th></th>\n",
       "      <th>OBJECTID</th>\n",
       "      <th>X</th>\n",
       "      <th>Y</th>\n",
       "      <th>geometry</th>\n",
       "    </tr>\n",
       "  </thead>\n",
       "  <tbody>\n",
       "    <tr>\n",
       "      <th>0</th>\n",
       "      <td>1</td>\n",
       "      <td>13.588010</td>\n",
       "      <td>11.095600</td>\n",
       "      <td>POINT (-0.13585 51.51295)</td>\n",
       "    </tr>\n",
       "    <tr>\n",
       "      <th>1</th>\n",
       "      <td>2</td>\n",
       "      <td>9.878124</td>\n",
       "      <td>12.559180</td>\n",
       "      <td>POINT (-0.13877 51.51371)</td>\n",
       "    </tr>\n",
       "    <tr>\n",
       "      <th>2</th>\n",
       "      <td>3</td>\n",
       "      <td>14.653980</td>\n",
       "      <td>10.180440</td>\n",
       "      <td>POINT (-0.13502 51.51249)</td>\n",
       "    </tr>\n",
       "    <tr>\n",
       "      <th>3</th>\n",
       "      <td>4</td>\n",
       "      <td>15.220570</td>\n",
       "      <td>9.993003</td>\n",
       "      <td>POINT (-0.13457 51.51239)</td>\n",
       "    </tr>\n",
       "    <tr>\n",
       "      <th>4</th>\n",
       "      <td>5</td>\n",
       "      <td>13.162650</td>\n",
       "      <td>12.963190</td>\n",
       "      <td>POINT (-0.13617 51.51387)</td>\n",
       "    </tr>\n",
       "    <tr>\n",
       "      <th>...</th>\n",
       "      <td>...</td>\n",
       "      <td>...</td>\n",
       "      <td>...</td>\n",
       "      <td>...</td>\n",
       "    </tr>\n",
       "    <tr>\n",
       "      <th>573</th>\n",
       "      <td>574</td>\n",
       "      <td>12.438040</td>\n",
       "      <td>11.536670</td>\n",
       "      <td>POINT (-0.13676 51.51318)</td>\n",
       "    </tr>\n",
       "    <tr>\n",
       "      <th>574</th>\n",
       "      <td>575</td>\n",
       "      <td>15.050640</td>\n",
       "      <td>10.174120</td>\n",
       "      <td>POINT (-0.13470 51.51248)</td>\n",
       "    </tr>\n",
       "    <tr>\n",
       "      <th>575</th>\n",
       "      <td>576</td>\n",
       "      <td>17.271660</td>\n",
       "      <td>11.633800</td>\n",
       "      <td>POINT (-0.13294 51.51317)</td>\n",
       "    </tr>\n",
       "    <tr>\n",
       "      <th>576</th>\n",
       "      <td>577</td>\n",
       "      <td>12.426100</td>\n",
       "      <td>11.914420</td>\n",
       "      <td>POINT (-0.13676 51.51336)</td>\n",
       "    </tr>\n",
       "    <tr>\n",
       "      <th>577</th>\n",
       "      <td>578</td>\n",
       "      <td>15.018170</td>\n",
       "      <td>12.515810</td>\n",
       "      <td>POINT (-0.13471 51.51363)</td>\n",
       "    </tr>\n",
       "  </tbody>\n",
       "</table>\n",
       "<p>578 rows × 4 columns</p>\n",
       "</div>"
      ],
      "text/plain": [
       "     OBJECTID          X          Y                   geometry\n",
       "0           1  13.588010  11.095600  POINT (-0.13585 51.51295)\n",
       "1           2   9.878124  12.559180  POINT (-0.13877 51.51371)\n",
       "2           3  14.653980  10.180440  POINT (-0.13502 51.51249)\n",
       "3           4  15.220570   9.993003  POINT (-0.13457 51.51239)\n",
       "4           5  13.162650  12.963190  POINT (-0.13617 51.51387)\n",
       "..        ...        ...        ...                        ...\n",
       "573       574  12.438040  11.536670  POINT (-0.13676 51.51318)\n",
       "574       575  15.050640  10.174120  POINT (-0.13470 51.51248)\n",
       "575       576  17.271660  11.633800  POINT (-0.13294 51.51317)\n",
       "576       577  12.426100  11.914420  POINT (-0.13676 51.51336)\n",
       "577       578  15.018170  12.515810  POINT (-0.13471 51.51363)\n",
       "\n",
       "[578 rows x 4 columns]"
      ]
     },
     "execution_count": 4,
     "metadata": {},
     "output_type": "execute_result"
    }
   ],
   "source": [
    "deaths"
   ]
  },
  {
   "cell_type": "code",
   "execution_count": 5,
   "metadata": {},
   "outputs": [],
   "source": [
    "brpump = gpd.read_file(basedir+\"/shapes/broad_st_pump_gcs.shp\")"
   ]
  },
  {
   "cell_type": "code",
   "execution_count": 6,
   "metadata": {},
   "outputs": [
    {
     "data": {
      "text/html": [
       "<div>\n",
       "<style scoped>\n",
       "    .dataframe tbody tr th:only-of-type {\n",
       "        vertical-align: middle;\n",
       "    }\n",
       "\n",
       "    .dataframe tbody tr th {\n",
       "        vertical-align: top;\n",
       "    }\n",
       "\n",
       "    .dataframe thead th {\n",
       "        text-align: right;\n",
       "    }\n",
       "</style>\n",
       "<table border=\"1\" class=\"dataframe\">\n",
       "  <thead>\n",
       "    <tr style=\"text-align: right;\">\n",
       "      <th></th>\n",
       "      <th>OBJECTID</th>\n",
       "      <th>X</th>\n",
       "      <th>Y</th>\n",
       "      <th>geometry</th>\n",
       "    </tr>\n",
       "  </thead>\n",
       "  <tbody>\n",
       "    <tr>\n",
       "      <th>0</th>\n",
       "      <td>1</td>\n",
       "      <td>12.57136</td>\n",
       "      <td>11.72717</td>\n",
       "      <td>POINT (-0.13664 51.51330)</td>\n",
       "    </tr>\n",
       "  </tbody>\n",
       "</table>\n",
       "</div>"
      ],
      "text/plain": [
       "   OBJECTID         X         Y                   geometry\n",
       "0         1  12.57136  11.72717  POINT (-0.13664 51.51330)"
      ]
     },
     "execution_count": 6,
     "metadata": {},
     "output_type": "execute_result"
    }
   ],
   "source": [
    "brpump"
   ]
  },
  {
   "cell_type": "code",
   "execution_count": 7,
   "metadata": {},
   "outputs": [],
   "source": [
    "pump = gpd.read_file(basedir+\"/shapes/pumps_gcs.shp\")"
   ]
  },
  {
   "cell_type": "code",
   "execution_count": 8,
   "metadata": {},
   "outputs": [
    {
     "data": {
      "text/html": [
       "<div>\n",
       "<style scoped>\n",
       "    .dataframe tbody tr th:only-of-type {\n",
       "        vertical-align: middle;\n",
       "    }\n",
       "\n",
       "    .dataframe tbody tr th {\n",
       "        vertical-align: top;\n",
       "    }\n",
       "\n",
       "    .dataframe thead th {\n",
       "        text-align: right;\n",
       "    }\n",
       "</style>\n",
       "<table border=\"1\" class=\"dataframe\">\n",
       "  <thead>\n",
       "    <tr style=\"text-align: right;\">\n",
       "      <th></th>\n",
       "      <th>OBJECTID</th>\n",
       "      <th>X</th>\n",
       "      <th>Y</th>\n",
       "      <th>geometry</th>\n",
       "    </tr>\n",
       "  </thead>\n",
       "  <tbody>\n",
       "    <tr>\n",
       "      <th>0</th>\n",
       "      <td>1</td>\n",
       "      <td>8.651201</td>\n",
       "      <td>17.891600</td>\n",
       "      <td>POINT (-0.13962 51.51630)</td>\n",
       "    </tr>\n",
       "    <tr>\n",
       "      <th>1</th>\n",
       "      <td>2</td>\n",
       "      <td>10.984780</td>\n",
       "      <td>18.517851</td>\n",
       "      <td>POINT (-0.13773 51.51658)</td>\n",
       "    </tr>\n",
       "    <tr>\n",
       "      <th>2</th>\n",
       "      <td>3</td>\n",
       "      <td>13.378190</td>\n",
       "      <td>17.394541</td>\n",
       "      <td>POINT (-0.13585 51.51602)</td>\n",
       "    </tr>\n",
       "    <tr>\n",
       "      <th>3</th>\n",
       "      <td>4</td>\n",
       "      <td>14.879830</td>\n",
       "      <td>17.809919</td>\n",
       "      <td>POINT (-0.13463 51.51620)</td>\n",
       "    </tr>\n",
       "    <tr>\n",
       "      <th>4</th>\n",
       "      <td>5</td>\n",
       "      <td>8.694768</td>\n",
       "      <td>14.905470</td>\n",
       "      <td>POINT (-0.13966 51.51487)</td>\n",
       "    </tr>\n",
       "    <tr>\n",
       "      <th>5</th>\n",
       "      <td>6</td>\n",
       "      <td>8.864416</td>\n",
       "      <td>12.753540</td>\n",
       "      <td>POINT (-0.13959 51.51383)</td>\n",
       "    </tr>\n",
       "    <tr>\n",
       "      <th>6</th>\n",
       "      <td>7</td>\n",
       "      <td>12.571360</td>\n",
       "      <td>11.727170</td>\n",
       "      <td>POINT (-0.13664 51.51330)</td>\n",
       "    </tr>\n",
       "    <tr>\n",
       "      <th>7</th>\n",
       "      <td>8</td>\n",
       "      <td>10.660970</td>\n",
       "      <td>7.428647</td>\n",
       "      <td>POINT (-0.13829 51.51125)</td>\n",
       "    </tr>\n",
       "    <tr>\n",
       "      <th>8</th>\n",
       "      <td>9</td>\n",
       "      <td>13.521460</td>\n",
       "      <td>7.958250</td>\n",
       "      <td>POINT (-0.13598 51.51148)</td>\n",
       "    </tr>\n",
       "    <tr>\n",
       "      <th>9</th>\n",
       "      <td>10</td>\n",
       "      <td>16.434891</td>\n",
       "      <td>9.252130</td>\n",
       "      <td>POINT (-0.13361 51.51207)</td>\n",
       "    </tr>\n",
       "    <tr>\n",
       "      <th>10</th>\n",
       "      <td>11</td>\n",
       "      <td>18.914391</td>\n",
       "      <td>9.737819</td>\n",
       "      <td>POINT (-0.13161 51.51228)</td>\n",
       "    </tr>\n",
       "    <tr>\n",
       "      <th>11</th>\n",
       "      <td>12</td>\n",
       "      <td>16.005110</td>\n",
       "      <td>5.046838</td>\n",
       "      <td>POINT (-0.13407 51.51006)</td>\n",
       "    </tr>\n",
       "    <tr>\n",
       "      <th>12</th>\n",
       "      <td>13</td>\n",
       "      <td>8.999440</td>\n",
       "      <td>5.101023</td>\n",
       "      <td>POINT (-0.13968 51.51015)</td>\n",
       "    </tr>\n",
       "  </tbody>\n",
       "</table>\n",
       "</div>"
      ],
      "text/plain": [
       "    OBJECTID          X          Y                   geometry\n",
       "0          1   8.651201  17.891600  POINT (-0.13962 51.51630)\n",
       "1          2  10.984780  18.517851  POINT (-0.13773 51.51658)\n",
       "2          3  13.378190  17.394541  POINT (-0.13585 51.51602)\n",
       "3          4  14.879830  17.809919  POINT (-0.13463 51.51620)\n",
       "4          5   8.694768  14.905470  POINT (-0.13966 51.51487)\n",
       "5          6   8.864416  12.753540  POINT (-0.13959 51.51383)\n",
       "6          7  12.571360  11.727170  POINT (-0.13664 51.51330)\n",
       "7          8  10.660970   7.428647  POINT (-0.13829 51.51125)\n",
       "8          9  13.521460   7.958250  POINT (-0.13598 51.51148)\n",
       "9         10  16.434891   9.252130  POINT (-0.13361 51.51207)\n",
       "10        11  18.914391   9.737819  POINT (-0.13161 51.51228)\n",
       "11        12  16.005110   5.046838  POINT (-0.13407 51.51006)\n",
       "12        13   8.999440   5.101023  POINT (-0.13968 51.51015)"
      ]
     },
     "execution_count": 8,
     "metadata": {},
     "output_type": "execute_result"
    }
   ],
   "source": [
    "pump"
   ]
  },
  {
   "cell_type": "code",
   "execution_count": 10,
   "metadata": {},
   "outputs": [
    {
     "data": {
      "text/plain": [
       "<Geographic 2D CRS: EPSG:4326>\n",
       "Name: WGS 84\n",
       "Axis Info [ellipsoidal]:\n",
       "- Lat[north]: Geodetic latitude (degree)\n",
       "- Lon[east]: Geodetic longitude (degree)\n",
       "Area of Use:\n",
       "- name: World.\n",
       "- bounds: (-180.0, -90.0, 180.0, 90.0)\n",
       "Datum: World Geodetic System 1984 ensemble\n",
       "- Ellipsoid: WGS 84\n",
       "- Prime Meridian: Greenwich"
      ]
     },
     "execution_count": 10,
     "metadata": {},
     "output_type": "execute_result"
    }
   ],
   "source": [
    "pump.crs"
   ]
  },
  {
   "cell_type": "markdown",
   "metadata": {},
   "source": [
    "## Exercise 2\n",
    "\n",
    "Extract the latitudes and the longitudes for each row in both datasets as additional columns!\n",
    "\n",
    "*In a `GeoDataFrame`, the `geometry` column contains geometry objects from the [`shapely`](https://toblerity.org/shapely/index.html) library. These objects have coordinate attributes, that is where latitude and longitude values are stored.*\n",
    "\n",
    "The 'X' and 'Y' columns are coordinates in an arbitrary coordinate system and usually not part of a *shp* file. \n",
    "\n",
    "The \"crs()\" method tells us in what coordinate system are the coordinates. Make sure that you use the right coordinate system, in which you can measure distances! If needed, project your points into a coordinate system where you can measure real distances (using e.g. `pyproj`), then create a meaningful visualization of the data!\n",
    "\n",
    "*It is crucial to use the appropriate coordinate system for your purposes. For this exercise, the spherical coordinate system of lon, lat values is not convenient, since we cannot calculate distances in meters as easily as we would in a Cartesian coordinate system. Because of the Earth's shape, most projections distort distances at certain latitudes and longitudes.*\n",
    "\n",
    "In GIS, different coordinate systems are called CRS (Coordinate Reference System), and have patented codes that define the origin, the projection etc. The usual lon, lat pairs are called the WGS84 system (you will need to find its epsg code first). A good choice for a Cartesian system is for example the Pseudo-Mercator projection ([epsg=3857](https://epsg.io/3857)). The `pyproj` library is especially lightweight to use in Python."
   ]
  },
  {
   "cell_type": "markdown",
   "metadata": {},
   "source": [
    "## Exercise 3\n",
    "\n",
    "How many deaths were within a given radius around the wells? Test for a series of radiuses. "
   ]
  },
  {
   "cell_type": "markdown",
   "metadata": {},
   "source": [
    "## Exercise 4"
   ]
  },
  {
   "cell_type": "markdown",
   "metadata": {},
   "source": [
    "Put both the deaths and the pumps on a zoomable map that has a base layer from a tile server different from that of the default settings of your chosen method. Set the appropriate map center and zoom level. Use different markers for the deaths and the pumps datasets.\n",
    "\n",
    "*Try folium in Python, or Leaflet in R or JS. Display the map here in the notebook.*"
   ]
  },
  {
   "cell_type": "markdown",
   "metadata": {},
   "source": [
    "## Exercise 5\n",
    "\n",
    "Calculate the Voronoi cells for the pumps, and count the number of deaths falling into each of the cells.  Create a bar chart of the number of deaths in each cell. Pinpoint the possible source of the infection.\n",
    "\n",
    "*Store the Voronoi cells in a GeoDataFrame, then you can easily do a spatial join (e.g. testing whether a polygon in the Voronoi dataframe contains a point from the death dataframe).*"
   ]
  },
  {
   "cell_type": "markdown",
   "metadata": {},
   "source": [
    "## Exercise 6\n",
    "\n",
    "Create a death density map using 2D Kernel Density Estimation. Display the density and its contours on the map along with the pumps. What is the density value at each of the pumps? Pinpoint the possible source of the infection.\n",
    "\n",
    "*Use the projected Cartesian coordinate system for this exercise.* "
   ]
  },
  {
   "cell_type": "markdown",
   "metadata": {},
   "source": [
    "## Exercise 7\n",
    "\n",
    "Create a GeoJSON object from the Voronoi cells, put the cells on the map, colored according to the number of deaths (like on a heatmap). Display the results in the notebook.\n",
    "\n",
    "*[GeoJSON](http://geojson.org/) is a common format that is used in web applications. It is basically a simple key-value dictionary with a predefined structure for storing geographic information. Once loaded into Python, it behaves like a normal Python dictionary, thus creating or modifying it is quite straightforward. When reading or writing to a file, the `json` module is handy. The advice is to write a function that converts a list of coordinates from a polygon into a GeoJSON feature, then add it to your GeoJSON structure.*"
   ]
  },
  {
   "cell_type": "markdown",
   "metadata": {},
   "source": [
    "## Exercise 8\n",
    "(optional)\n",
    "Download the street network of the area of the deaths from OpenStreetMap using its [map API](https://wiki.openstreetmap.org/wiki/API_v0.6#Retrieving_map_data_by_bounding_box:_GET_.2Fapi.2F0.6.2Fmap). Use street segments given back by the API as edges of a street graph. Develop a method based on the cholera dataset to classify these edges into three categories:\n",
    "* existed at the time of John Snow\n",
    "* did not exist at the time of John Snow\n",
    "* cannot decide\n",
    "\n",
    "*You'll get the id of each node and way that falls within a bounding box with the GET method of the map API. Use the ids to retrieve the shapes with the help of the ways API.*\n",
    "\n",
    "*The results will be in XML format. Find a good [XML parser](https://docs.python.org/2/library/xml.etree.elementtree.html#module-xml.etree.ElementTree) to navigate the structures.*"
   ]
  },
  {
   "cell_type": "markdown",
   "metadata": {},
   "source": [
    "## Exercise 9\n",
    "(optional)\n",
    "\n",
    "Plot the streets on the map along with the pumps and the deaths colored by the results of the classification."
   ]
  },
  {
   "cell_type": "code",
   "execution_count": null,
   "metadata": {},
   "outputs": [],
   "source": []
  }
 ],
 "metadata": {
  "anaconda-cloud": {},
  "hide_input": false,
  "kernelspec": {
   "display_name": "Python [conda env:.conda-datavis_shapesmaps]",
   "language": "python",
   "name": "conda-env-.conda-datavis_shapesmaps-py"
  }
 },
 "nbformat": 4,
 "nbformat_minor": 4
}
