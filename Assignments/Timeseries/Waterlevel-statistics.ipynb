{
 "cells": [
  {
   "cell_type": "markdown",
   "metadata": {},
   "source": [
    "# Statistical analysis of water discharge of surface streams\n",
    "\n",
    "### Task:\n",
    "* find a dataset about a river's water level\n",
    "* analyse the various timeseries data by fitting the right/suitable distribution onto it.\n",
    "* draw some conclusions about the weather near the river/measurement station\n",
    "\n"
   ]
  },
  {
   "cell_type": "markdown",
   "metadata": {},
   "source": [
    "### A list of statistical distributions\n",
    "Fermi-Dirac statistics, Bose-Einstein statistics, Maxwell-Boltzmann distribution, Planck’s law\n",
    "Binomial distribution\n",
    "* number of successes of n independent experiments\n",
    "Cauchy distribution\n",
    "* ration of normally distributed variables\n",
    "* shape of spectral lines\n",
    "Gamma distribution\n",
    "Geometric distribution\n",
    "* number of trials before the first success in Bernoulli trials\n",
    "Chi-squared distribution\n",
    "* sum of squares of independent standard normal variables\n",
    "* how to construct confidence intervals\n",
    " \n",
    "Exponential distribution\n",
    "Gumbel distribution\n",
    "* expectation value of the maximum/minimum of samples drawn from a parent distribution with exp tail\n",
    "* Lévy distribution\n",
    "* heavy-tailed distribution\n",
    "\n",
    "Logistic distribution\n",
    " \n",
    "* categorical dependent variables\n",
    "* logistic regression\n",
    " \n",
    "Log normal distribution\n",
    " \n",
    "* product of many independent variables\n",
    "* size distribution of particles\n",
    " \n",
    "Normal distribution\n",
    " \n",
    "Pareto distribution\n",
    "* heavy-tailed, decreasing power-law\n",
    "* degree distribution of social networks\n",
    " \n",
    "Poisson distribution\n",
    " \n",
    "Student t\n",
    " \n",
    "* average of a normally distributed population\n",
    "* n is small\n",
    "Uniform distribution\n",
    "Weibull distribution\n",
    " * any of n iid variables being above a certain limit\n",
    "* first failure of a system of n identical components"
   ]
  },
  {
   "cell_type": "markdown",
   "metadata": {},
   "source": [
    "## Excercise 1\n",
    "\n",
    "For the purposes of the current excercises, select a stream from a rainy area with relatively small discharge so that the effect of short but strong storms is visible. Good choices are small rivers from the north-eastern US, e.g. site 01589440. First experiment with a smaller dataset, for example one year long series, but at the end **retrieve at least 10 years of data**.\n",
    "\n",
    "Large amounts of historical surface water data are available from the United States Geological Survey (USGS) at https://waterdata.usgs.gov/nwis The goal of the project is to retrieve samples from the web interface manually, and then later  automate the process by calling the web service as described at https://help.waterdata.usgs.gov/faq/automated-retrievals.\n",
    "\n",
    "The service is explained in more detail here: https://waterservices.usgs.gov/docs/site-service/site-service-details/.\n",
    "#### or\n",
    "\n",
    "Find a database of historic water level measurement of a large river such as the Danube at Budapest!"
   ]
  },
  {
   "cell_type": "code",
   "execution_count": 1,
   "metadata": {},
   "outputs": [],
   "source": [
    "import pandas as pd\n",
    "import os"
   ]
  },
  {
   "cell_type": "code",
   "execution_count": 2,
   "metadata": {},
   "outputs": [],
   "source": [
    "import requests\n",
    "\n",
    "# Define the URL for the USGS API\n",
    "url = \"https://nwis.waterdata.usgs.gov/nwis/uv/\"\n",
    "\n",
    "# Define the parameters for the request\n",
    "params = {\n",
    "    \"format\": \"rdb\",\n",
    "    \"site_no\": \"01589440\",\n",
    "    \"parameterCd\": \"00065\",  # Water level parameter code\n",
    "    \"begin_date\" : \"20180101\",\n",
    "    \"end_date\" : \"20191231\",\n",
    "    \"siteStatus\": \"all\"\n",
    "}\n",
    "\n",
    "# Send the GET request\n",
    "response = requests.get(url, params=params)\n",
    "\n",
    "# Check if the request was successful\n",
    "if response.status_code == 200:\n",
    "    # Extract the data from the response\n",
    "    data = response.text\n",
    "    # Process the data as needed\n",
    "    # ...\n",
    "else:\n",
    "    print(\"Error: Failed to retrieve data from the USGS server.\")\n",
    "    print(\"Status code:\", response.status_code)\n",
    "    print()\n"
   ]
  },
  {
   "cell_type": "code",
   "execution_count": 4,
   "metadata": {},
   "outputs": [
    {
     "name": "stdout",
     "output_type": "stream",
     "text": [
      "/v/wfct0p/data-ex-vis/Assignments/Timeseries\r\n"
     ]
    }
   ],
   "source": [
    "!ls /v/courses/2025-202425adatexplorcisvizualizci.assignments/"
   ]
  },
  {
   "cell_type": "code",
   "execution_count": 68,
   "metadata": {},
   "outputs": [],
   "source": [
    "dirname = f\"/v/courses/2025-202425adatexplorcisvizualizci.assignments/timeseries/\""
   ]
  },
  {
   "cell_type": "code",
   "execution_count": 50,
   "metadata": {},
   "outputs": [],
   "source": [
    "with open(dirname+\"water_level_data.txt\", \"w\") as file:\n",
    "    file.write(data)"
   ]
  },
  {
   "cell_type": "code",
   "execution_count": 78,
   "metadata": {},
   "outputs": [
    {
     "data": {
      "text/html": [
       "<div>\n",
       "<style scoped>\n",
       "    .dataframe tbody tr th:only-of-type {\n",
       "        vertical-align: middle;\n",
       "    }\n",
       "\n",
       "    .dataframe tbody tr th {\n",
       "        vertical-align: top;\n",
       "    }\n",
       "\n",
       "    .dataframe thead th {\n",
       "        text-align: right;\n",
       "    }\n",
       "</style>\n",
       "<table border=\"1\" class=\"dataframe\">\n",
       "  <thead>\n",
       "    <tr style=\"text-align: right;\">\n",
       "      <th></th>\n",
       "      <th>agency_cd</th>\n",
       "      <th>site_no</th>\n",
       "      <th>datetime</th>\n",
       "      <th>tz_cd</th>\n",
       "      <th>69744_00060</th>\n",
       "      <th>69744_00060_cd</th>\n",
       "      <th>69745_00065</th>\n",
       "      <th>69745_00065_cd</th>\n",
       "    </tr>\n",
       "  </thead>\n",
       "  <tbody>\n",
       "    <tr>\n",
       "      <th>0</th>\n",
       "      <td>USGS</td>\n",
       "      <td>1589440</td>\n",
       "      <td>2010-01-01 00:00:00</td>\n",
       "      <td>EST</td>\n",
       "      <td>58.2</td>\n",
       "      <td>A</td>\n",
       "      <td>3.87</td>\n",
       "      <td>A</td>\n",
       "    </tr>\n",
       "    <tr>\n",
       "      <th>1</th>\n",
       "      <td>USGS</td>\n",
       "      <td>1589440</td>\n",
       "      <td>2010-01-01 00:15:00</td>\n",
       "      <td>EST</td>\n",
       "      <td>58.2</td>\n",
       "      <td>A</td>\n",
       "      <td>3.87</td>\n",
       "      <td>A</td>\n",
       "    </tr>\n",
       "    <tr>\n",
       "      <th>2</th>\n",
       "      <td>USGS</td>\n",
       "      <td>1589440</td>\n",
       "      <td>2010-01-01 00:30:00</td>\n",
       "      <td>EST</td>\n",
       "      <td>59.3</td>\n",
       "      <td>A</td>\n",
       "      <td>3.88</td>\n",
       "      <td>A</td>\n",
       "    </tr>\n",
       "    <tr>\n",
       "      <th>3</th>\n",
       "      <td>USGS</td>\n",
       "      <td>1589440</td>\n",
       "      <td>2010-01-01 00:45:00</td>\n",
       "      <td>EST</td>\n",
       "      <td>59.3</td>\n",
       "      <td>A</td>\n",
       "      <td>3.88</td>\n",
       "      <td>A</td>\n",
       "    </tr>\n",
       "    <tr>\n",
       "      <th>4</th>\n",
       "      <td>USGS</td>\n",
       "      <td>1589440</td>\n",
       "      <td>2010-01-01 01:00:00</td>\n",
       "      <td>EST</td>\n",
       "      <td>59.3</td>\n",
       "      <td>A</td>\n",
       "      <td>3.89</td>\n",
       "      <td>A</td>\n",
       "    </tr>\n",
       "  </tbody>\n",
       "</table>\n",
       "</div>"
      ],
      "text/plain": [
       "  agency_cd  site_no            datetime tz_cd  69744_00060 69744_00060_cd  \\\n",
       "0      USGS  1589440 2010-01-01 00:00:00   EST         58.2              A   \n",
       "1      USGS  1589440 2010-01-01 00:15:00   EST         58.2              A   \n",
       "2      USGS  1589440 2010-01-01 00:30:00   EST         59.3              A   \n",
       "3      USGS  1589440 2010-01-01 00:45:00   EST         59.3              A   \n",
       "4      USGS  1589440 2010-01-01 01:00:00   EST         59.3              A   \n",
       "\n",
       "   69745_00065 69745_00065_cd  \n",
       "0         3.87              A  \n",
       "1         3.87              A  \n",
       "2         3.88              A  \n",
       "3         3.88              A  \n",
       "4         3.89              A  "
      ]
     },
     "execution_count": 78,
     "metadata": {},
     "output_type": "execute_result"
    }
   ],
   "source": [
    "#load water_level_data.txt into a pandas dataframe, use dateime as date column, treat comments with \"#\", skiprow 30, and use tab as delimiter\n",
    "import pandas as pd\n",
    "\n",
    "# Load the data into a DataFrame\n",
    "df = pd.read_csv(dirname+\"water_level_data.txt\", comment=\"#\", skiprows=[30], parse_dates=[\"datetime\"], delimiter=\"\\t\")\n",
    "\n",
    "# Display the DataFrame\n",
    "df.head()\n"
   ]
  },
  {
   "cell_type": "code",
   "execution_count": 79,
   "metadata": {},
   "outputs": [],
   "source": [
    "#use the loaded df DataFrame and rename columns 69744_00060 and 69745_00065 to water_discharge and gage_height, respectively\n",
    "df = df.rename(columns={'69744_00060': 'water_discharge', '69745_00065': 'gage_height'})\n"
   ]
  },
  {
   "cell_type": "code",
   "execution_count": 80,
   "metadata": {},
   "outputs": [
    {
     "name": "stdout",
     "output_type": "stream",
     "text": [
      "<class 'pandas.core.frame.DataFrame'>\n",
      "RangeIndex: 349753 entries, 0 to 349752\n",
      "Data columns (total 8 columns):\n",
      " #   Column           Non-Null Count   Dtype         \n",
      "---  ------           --------------   -----         \n",
      " 0   agency_cd        349753 non-null  object        \n",
      " 1   site_no          349753 non-null  int64         \n",
      " 2   datetime         349753 non-null  datetime64[ns]\n",
      " 3   tz_cd            349753 non-null  object        \n",
      " 4   water_discharge  334535 non-null  float64       \n",
      " 5   69744_00060_cd   334535 non-null  object        \n",
      " 6   gage_height      349727 non-null  float64       \n",
      " 7   69745_00065_cd   349727 non-null  object        \n",
      "dtypes: datetime64[ns](1), float64(2), int64(1), object(4)\n",
      "memory usage: 21.3+ MB\n"
     ]
    }
   ],
   "source": [
    "df.info()"
   ]
  },
  {
   "cell_type": "code",
   "execution_count": 82,
   "metadata": {},
   "outputs": [
    {
     "data": {
      "image/png": "[encoded data removed]",
      "text/plain": [
       "<Figure size 1200x600 with 1 Axes>"
      ]
     },
     "metadata": {},
     "output_type": "display_data"
    }
   ],
   "source": []
  },
  {
   "cell_type": "markdown",
   "metadata": {},
   "source": [
    "## Excercise 2\n",
    "\n",
    "Load the downloaded data file into the processing environment paying attention to handling time stamps and perfoming the necessary data type conversions (converting dates to floating point numbers such as unix time stamp or julian date sometimes makes handling time series easier). Plot the data for a certain interval to show that the effect of storms is clearly visible!"
   ]
  },
  {
   "cell_type": "code",
   "execution_count": null,
   "metadata": {
    "tags": []
   },
   "outputs": [],
   "source": []
  },
  {
   "cell_type": "markdown",
   "metadata": {},
   "source": [
    "## Excercise 3\n",
    "\n",
    "Plot the histogram of water discharge values. Fit the data with an appropriate distribution function and bring arguments in favor of the choice of function!"
   ]
  },
  {
   "cell_type": "code",
   "execution_count": null,
   "metadata": {
    "tags": []
   },
   "outputs": [],
   "source": []
  },
  {
   "cell_type": "markdown",
   "metadata": {},
   "source": [
    "## Excercise 4\n",
    "\n",
    "In case of small streams, storms and passing weather fronts with rain can significantly increase water discharge on a short time scale. Develop a simple algorithm to detect rainy events in the data. Plot the original time series and mark rainy events!"
   ]
  },
  {
   "cell_type": "code",
   "execution_count": null,
   "metadata": {
    "collapsed": true,
    "jupyter": {
     "outputs_hidden": true
    }
   },
   "outputs": [],
   "source": []
  },
  {
   "cell_type": "markdown",
   "metadata": {},
   "source": [
    "## Excercise 5\n",
    "\n",
    "Water discharge increases significantly during rain producing maxima in the time series. Plot the distribution of maximum values and fit with an appropriate function. Bring arguments to support the choice of probabilistic model!"
   ]
  },
  {
   "cell_type": "code",
   "execution_count": null,
   "metadata": {
    "collapsed": true,
    "jupyter": {
     "outputs_hidden": true
    }
   },
   "outputs": [],
   "source": []
  },
  {
   "cell_type": "markdown",
   "metadata": {},
   "source": [
    "## Excercise 6\n",
    "\n",
    "Once rainy events are detected, plot the distribution of the length of sunny intervals between rains. Fit the distribution with an appropriate function!"
   ]
  },
  {
   "cell_type": "code",
   "execution_count": null,
   "metadata": {
    "collapsed": true,
    "jupyter": {
     "outputs_hidden": true
    }
   },
   "outputs": [],
   "source": []
  },
  {
   "cell_type": "markdown",
   "metadata": {},
   "source": [
    "## Excercise 7\n",
    "\n",
    "What is the maximum of water discharge in an arbitrarily chosen period of one year? Calculate the maximum of water discharge due to rain in a rolling window of 1 year, plot its distribution and fit with an appropriate function!"
   ]
  },
  {
   "cell_type": "code",
   "execution_count": null,
   "metadata": {
    "collapsed": true,
    "jupyter": {
     "outputs_hidden": true
    }
   },
   "outputs": [],
   "source": []
  },
  {
   "cell_type": "markdown",
   "metadata": {},
   "source": [
    "## Excercise 8\n",
    "\n",
    "How many time does it rain in a month? (Again use a rolling window function) Calculate and plot the distribution and fit with an appropriate function!"
   ]
  },
  {
   "cell_type": "code",
   "execution_count": null,
   "metadata": {
    "collapsed": true,
    "jupyter": {
     "outputs_hidden": true
    }
   },
   "outputs": [],
   "source": []
  },
  {
   "cell_type": "markdown",
   "metadata": {},
   "source": [
    "## Excercise 9\n",
    "\n",
    "Find the measuring station you used in the excercises above on the map. Find another measurement station about 100-200 kms from it and download the data! Try to estimate the typical time it takes for weather fronts to travel the distance between the two measuring stations!"
   ]
  },
  {
   "cell_type": "code",
   "execution_count": null,
   "metadata": {
    "collapsed": true,
    "jupyter": {
     "outputs_hidden": true
    }
   },
   "outputs": [],
   "source": []
  }
 ],
 "metadata": {
  "kernelspec": {
   "display_name": "Python 3 (ipykernel)",
   "language": "python",
   "name": "python3"
  },
  "language_info": {
   "codemirror_mode": {
    "name": "ipython",
    "version": 3
   },
   "file_extension": ".py",
   "mimetype": "text/x-python",
   "name": "python",
   "nbconvert_exporter": "python",
   "pygments_lexer": "ipython3",
   "version": "3.9.13"
  },
  "varInspector": {
   "cols": {
    "lenName": 16,
    "lenType": 16,
    "lenVar": 40
   },
   "kernels_config": {
    "python": {
     "delete_cmd_postfix": "",
     "delete_cmd_prefix": "del ",
     "library": "var_list.py",
     "varRefreshCmd": "print(var_dic_list())"
    },
    "r": {
     "delete_cmd_postfix": ") ",
     "delete_cmd_prefix": "rm(",
     "library": "var_list.r",
     "varRefreshCmd": "cat(var_dic_list()) "
    }
   },
   "types_to_exclude": [
    "module",
    "function",
    "builtin_function_or_method",
    "instance",
    "_Feature"
   ],
   "window_display": false
  }
 },
 "nbformat": 4,
 "nbformat_minor": 4
}
